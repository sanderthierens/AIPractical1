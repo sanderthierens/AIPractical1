{
 "cells": [
  {
   "cell_type": "markdown",
   "metadata": {
    "colab_type": "text",
    "id": "5p8wNfqaoPWp"
   },
   "source": [
    "# Provided code\n",
    "\n",
    "You shouldn't need to change anything in this section."
   ]
  },
  {
   "cell_type": "markdown",
   "metadata": {
    "colab_type": "text",
    "id": "4KkORWl2F6M9"
   },
   "source": [
    "### Load data to Colab"
   ]
  },
  {
   "cell_type": "code",
   "execution_count": 2,
   "metadata": {
    "colab": {
     "base_uri": "https://localhost:8080/",
     "height": 72
    },
    "colab_type": "code",
    "id": "kSqty85NFq-E",
    "outputId": "f676ecf1-4364-4606-f061-d2f0f62b714d"
   },
   "outputs": [
    {
     "name": "stdout",
     "output_type": "stream",
     "text": [
      "USA-road-d.NY.gr.txt\n",
      "USA-road-t.NY.gr.txt\n",
      "USA-road-d.NY.co.txt\n"
     ]
    }
   ],
   "source": [
    "if False:  # manual loading\n",
    "    from google.colab import file\n",
    "    uploaded = files.upload()  # then browse, select the files\n",
    "    \n",
    "else:  # automatic loading\n",
    "    import requests\n",
    "    import gzip\n",
    "    \n",
    "    filepath_d_gr = 'http://users.diag.uniroma1.it/challenge9/data/USA-road-d/' + 'USA-road-d.NY.gr.gz'\n",
    "    filepath_t_gr = 'http://users.diag.uniroma1.it/challenge9/data/USA-road-t/' + 'USA-road-t.NY.gr.gz'\n",
    "    filepath_d_co = 'http://users.diag.uniroma1.it/challenge9/data/USA-road-d/' + 'USA-road-d.NY.co.gz'\n",
    "    \n",
    "    def loader(url):\n",
    "        name = url.rsplit('/', 1)[1].rsplit('.', 1)[0]\n",
    "        savename = name + '.txt'\n",
    "        \n",
    "        with open(savename, 'wb') as f_out:\n",
    "            with requests.get(url) as r:\n",
    "                f_in = gzip.decompress(r.content)\n",
    "                f_out.write(f_in)\n",
    "                \n",
    "        print(savename)\n",
    "            \n",
    "    loader(filepath_d_gr)\n",
    "    loader(filepath_t_gr)\n",
    "    loader(filepath_d_co)\n",
    "    \n",
    "    "
   ]
  },
  {
   "cell_type": "markdown",
   "metadata": {
    "colab_type": "text",
    "id": "MgQyZNbXoW1m"
   },
   "source": [
    "### Graph and Vertex classes"
   ]
  },
  {
   "cell_type": "code",
   "execution_count": 3,
   "metadata": {
    "colab": {},
    "colab_type": "code",
    "id": "ywNJyeOdH0DE"
   },
   "outputs": [],
   "source": [
    "# Vertex implementation\n",
    "class Vertex:\n",
    "    # Initialization of a vertex, given a neighbor and the corresponding weight\n",
    "    # Each vertex contains a list of neighbors and corresponding weights\n",
    "    def __init__(self, i, neighbor_index, weight):\n",
    "        self.index = i\n",
    "        self.neighbors = [neighbor_index]\n",
    "        self.weights = [weight]\n",
    "        \n",
    "    def getNeighbors(self):\n",
    "        return self.neighbors\n",
    "    \n",
    "    def getWeights(self):\n",
    "        return self.weights\n",
    "    \n",
    "    # Add a neighbor with corresponding weight to the vertex\n",
    "    def _addNeighbor(self, neighbor_index, weight):\n",
    "        self.neighbors.append(neighbor_index)\n",
    "        self.weights.append(weight)\n",
    "\n",
    "\n",
    "# Graph data structure\n",
    "class Graph:\n",
    "    # Initializes a graph with n_vertices nodes\n",
    "    # The graph contains a list of vertices\n",
    "    def __init__(self, n_vertices):\n",
    "        self.vertices = [None] * (n_vertices+1)\n",
    "        self.num_vertices = len(self.vertices)\n",
    "        \n",
    "    def getAmountVertex(self):\n",
    "        return(self.num_vertices)\n",
    "    \n",
    "    # Returns the i'th node\n",
    "    def getVertex(self, i):\n",
    "        if ((i > len(self.vertices)) | (i <= 0)):\n",
    "            raise ValueError(f'index {i} is out of bounds')\n",
    "        else:\n",
    "            return self.vertices[i]\n",
    "    \n",
    "    # Adds a new vertex to the graph\n",
    "    def _addVertex(self, vertex_index, neighor_index, distance):\n",
    "        if (self.vertices[vertex_index] == None):\n",
    "            # Construct new vertex\n",
    "            self.vertices[vertex_index] = Vertex(vertex_index, neighor_index, distance)\n",
    "        else:\n",
    "            # Vertex already in graph but other neighbor, add extra edge\n",
    "            self.vertices[vertex_index]._addNeighbor(neighor_index, distance)\n",
    "\n",
    "\n"
   ]
  },
  {
   "cell_type": "code",
   "execution_count": 4,
   "metadata": {
    "colab": {},
    "colab_type": "code",
    "id": "NLfr2jKb1BG0"
   },
   "outputs": [],
   "source": [
    "import fileinput\n",
    "\n",
    "# Read graph data\n",
    "def readGraph(filePath):\n",
    "    n_vertices = 0\n",
    "    for line in fileinput.input([filePath]):\n",
    "        words = line.split(\" \")\n",
    "        if (words[0] == \"p\"):\n",
    "            n_vertices = int(words[2])\n",
    "    graph = Graph(n_vertices)\n",
    "    for line in fileinput.input([filePath]):\n",
    "        words = line.split(\" \")\n",
    "        if (words[0] == \"a\"):\n",
    "            graph._addVertex(int(words[1]), int(words[2]), float(words[3]))\n",
    "    return graph\n",
    "\n",
    "\n",
    "# Read coordinates data\n",
    "def readCoordinates(filepath):\n",
    "    # Start to count from 1\n",
    "    coordinates = [None]\n",
    "    for line in fileinput.input([filepath]):\n",
    "        words = line.split(\" \")\n",
    "        if (words[0] == \"v\"):\n",
    "            coordinates.append([float(words[2]), float(words[3])])\n",
    "    return coordinates\n"
   ]
  },
  {
   "cell_type": "markdown",
   "metadata": {
    "colab_type": "text",
    "id": "gP6t2Queo3XF"
   },
   "source": [
    "### Usefull functions"
   ]
  },
  {
   "cell_type": "code",
   "execution_count": 5,
   "metadata": {
    "colab": {},
    "colab_type": "code",
    "id": "KzkGZ4vRpEQh"
   },
   "outputs": [],
   "source": [
    "import numpy as np\n",
    "    \n",
    "# Priority queue definition\n",
    "class PriorityQueue(dict):\n",
    "    def put(self, item, value):\n",
    "        # Watch out that value is not overwritten with higher value, shouldn't be allowed to happen!\n",
    "        self[item] = value  \n",
    "    \n",
    "    def pop(self):\n",
    "        \"\"\"\n",
    "        Returns the item with the lowest weight\n",
    "        \"\"\"\n",
    "        item_min = min(self, key=self.get)\n",
    "        super().pop(item_min)\n",
    "        return item_min\n",
    "\n",
    "    \n",
    "def angles2centimeters(lo, la):\n",
    "    \"\"\"\n",
    "    Convert longitude and latitude to local orthogonal grid\n",
    "    :param lo: longitude\n",
    "    :param la: latitude\n",
    "    :return: height and width coordinates in cm's\n",
    "    \"\"\"\n",
    "    \n",
    "    radius = 6300 * 1e4  # cm\n",
    "    la_mean = 40794234.  # 1e-6 degree\n",
    "    lo_mean = -74016939.  # 1e-6 degree\n",
    "    \n",
    "    w = radius * np.cos(np.radians(la / 1e6)) * np.radians((lo - lo_mean) / 1e6)\n",
    "    h = radius * np.radians((la - la_mean) / 1e6)\n",
    "    \n",
    "    return w, h "
   ]
  },
  {
   "cell_type": "markdown",
   "metadata": {
    "colab_type": "text",
    "id": "A-9Y6SPNohI9"
   },
   "source": [
    "# Assignment"
   ]
  },
  {
   "cell_type": "markdown",
   "metadata": {},
   "source": [
    "First we'll check the amount of verteces and edges"
   ]
  },
  {
   "cell_type": "code",
   "execution_count": null,
   "metadata": {},
   "outputs": [],
   "source": [
    "\n",
    "\n",
    "\n",
    "\n",
    "    "
   ]
  },
  {
   "cell_type": "markdown",
   "metadata": {},
   "source": [
    "## Code skeletons\n",
    "\n",
    "Feel free to move the following code to the relevant questions. \n",
    "\n",
    "Before submitting your code, make sure to execute all code fields sequentially. Notebooks that don't execute sequentially will be penalised."
   ]
  },
  {
   "cell_type": "code",
   "execution_count": 6,
   "metadata": {},
   "outputs": [
    {
     "name": "stdout",
     "output_type": "stream",
     "text": [
      "sum of verteces 264347\n",
      "sum of edges 733846\n"
     ]
    }
   ],
   "source": [
    "\n",
    "graph = readGraph('USA-road-d.NY.gr.txt')\n",
    "co = readCoordinates('USA-road-d.NY.co.txt')\n",
    "\n",
    "verteces_amount = graph.getAmountVertex()\n",
    "print(\"sum of verteces\", verteces_amount)\n",
    "\n",
    "vertex_1 = graph.getVertex(1)\n",
    "\n",
    "sum_of_edges = 0\n",
    "for i in range(1, verteces_amount):\n",
    "    tempVertex = graph.getVertex(i)\n",
    "    neighbours_amount = len(tempVertex.getNeighbors())\n",
    "    sum_of_edges += neighbours_amount\n",
    "print(\"sum of edges\", sum_of_edges)\n"
   ]
  },
  {
   "cell_type": "code",
   "execution_count": 7,
   "metadata": {
    "colab": {},
    "colab_type": "code",
    "id": "Wv4N_v5YOHN_"
   },
   "outputs": [
    {
     "name": "stdout",
     "output_type": "stream",
     "text": [
      "264347\n",
      "len\n",
      "264347\n"
     ]
    },
    {
     "data": {
      "text/plain": [
       "(211, 243954.0)"
      ]
     },
     "execution_count": 7,
     "metadata": {},
     "output_type": "execute_result"
    }
   ],
   "source": [
    "import sys\n",
    "import math\n",
    "\n",
    "max = sys.maxsize\n",
    "\n",
    "\n",
    "# Heuristic function\n",
    "def h(node1, node2):\n",
    "    \"\"\"\n",
    "    Heuristic function\n",
    "    \"\"\"\n",
    "    node1_co = co[node1]\n",
    "    node2_co = co[node2]\n",
    "    \n",
    "    n1_h, n1_w = angles2centimeters(co[node1][0], co[node1][1])\n",
    "    n2_h, n2_w = angles2centimeters(co[node2][0], co[node2][1])\n",
    "    \n",
    "    \n",
    "    distance = math.sqrt(((n1_h - n2_h) ** 2) + ((n1_w - n2_w) ** 2))\n",
    "    \n",
    "    return distance\n",
    "\n",
    "def get_distance(vertex, neighbor):\n",
    "    current_vertex = graph.getVertex(vertex)\n",
    "    weights = current_vertex.getWeights()\n",
    "    neighbors = current_vertex.getNeighbors()\n",
    "    return weights[neighbors.index(neighbor)]\n",
    "\n",
    "# Algorithm\n",
    "def a_star_search(graph, co, start, goal):\n",
    "    \"\"\"\n",
    "    A* algorithm\n",
    "    :param graph: Graph object\n",
    "    :param co: coordinates list\n",
    "    :param start: index of start node\n",
    "    :param goal: index of goal node\n",
    "    :return: The path of nodes and total length\n",
    "    \"\"\"\n",
    "    list_closed = []\n",
    "    list_open = []\n",
    "    list_open.append(start)\n",
    "    list_cameFrom = [None] * (verteces_amount)\n",
    "    total_length = 0\n",
    "    print(verteces_amount)\n",
    "    print(\"len\")\n",
    "    print(len(list_cameFrom))\n",
    "    \n",
    "    f_dict = {i:max for i in range(1, verteces_amount)}\n",
    "    g_dict = {i:max for i in range(1, verteces_amount)}\n",
    "    f = PriorityQueue(f_dict)\n",
    "    g = PriorityQueue(g_dict)\n",
    "    \n",
    "    g.put(start, 0)\n",
    "    f.put(start, g[start] + h(start,goal))\n",
    "      \n",
    "    while len(list_open) > 0:\n",
    "        current = f.pop()\n",
    "        if current == goal:\n",
    "            break\n",
    "        list_open.remove(current)\n",
    "        list_closed.append(current)\n",
    "        for i in graph.getVertex(current).getNeighbors():\n",
    "            if i in list_closed:\n",
    "                continue\n",
    "            tentative_g_score = g[current] + get_distance(current, i)\n",
    "            if i not in list_open:\n",
    "                list_open.append(i)\n",
    "                #print(list_open)\n",
    "            elif tentative_g_score >= g[i]:\n",
    "                continue\n",
    "            list_cameFrom[i] = current\n",
    "            g[i] = tentative_g_score\n",
    "            f[i] = g[i] + h(i, goal)\n",
    "            \n",
    "    #Iterate back from goal vertex to start vertex and calculating the distance\n",
    "    previous_node = goal\n",
    "    path = []\n",
    "    total_length = 0\n",
    "    while previous_node != start:\n",
    "        temp = list_cameFrom[previous_node]\n",
    "        path.append(temp)\n",
    "        total_length += get_distance(previous_node,temp)\n",
    "        previous_node = temp\n",
    "    \n",
    "    return len(path), total_length\n",
    "\n",
    "\n",
    "##testing\n",
    "a_star_search(graph, co, 48027, 18582)"
   ]
  },
  {
   "cell_type": "code",
   "execution_count": 15,
   "metadata": {},
   "outputs": [
    {
     "name": "stdout",
     "output_type": "stream",
     "text": [
      "-73530767.0\n"
     ]
    }
   ],
   "source": [
    "##testing cell\n",
    "\n",
    "\n",
    "import sys\n",
    "max = sys.maxsize\n",
    "\n",
    "#make sure to start jupyter-lab with the following flag: jupyter-lab --NotebookApp.iopub_data_rate_limit=1.0e10\n",
    "#f_dict = {i:max for i in range(1, verteces_amount)}\n",
    "#f = PriorityQueue(f_dict)\n",
    "#print(f.pop())\n",
    "print(co[1][0])\n"
   ]
  },
  {
   "cell_type": "code",
   "execution_count": 6,
   "metadata": {},
   "outputs": [],
   "source": [
    "# Check your solution with distances.txt. If A* is implemented correctly,\n",
    "# (using Eucledian distance), it should return the same values for each  \n",
    "# group number. Edit only the variables group_number and num_vertices.\n",
    "\n",
    "import random\n",
    "\n",
    "group_number = 0  # TODO: change to your group number\n",
    "num_vertices = 0  # TODO: number of vertices in the graph\n",
    "\n",
    "random.seed(group_number)\n",
    "\n",
    "start = random.randint(1, num_vertices + 1)\n",
    "goal = random.randint(1, num_vertices + 1)\n",
    "\n",
    "\n",
    "# Calculating the path between nodes\n",
    "path, path_length = a_star_search(graph, co, start, goal)"
   ]
  },
  {
   "cell_type": "markdown",
   "metadata": {},
   "source": [
    "## Answers\n",
    "\n",
    "Answer the questions from the assignment and add appropriate code where relevant to the question."
   ]
  },
  {
   "cell_type": "code",
   "execution_count": 7,
   "metadata": {},
   "outputs": [],
   "source": [
    "# TODO"
   ]
  },
  {
   "cell_type": "code",
   "execution_count": null,
   "metadata": {},
   "outputs": [],
   "source": []
  }
 ],
 "metadata": {
  "colab": {
   "collapsed_sections": [],
   "name": "a_star_student.ipynb",
   "provenance": [],
   "toc_visible": true
  },
  "kernelspec": {
   "display_name": "Python [conda env:AIPractical]",
   "language": "python",
   "name": "conda-env-AIPractical-py"
  },
  "language_info": {
   "codemirror_mode": {
    "name": "ipython",
    "version": 3
   },
   "file_extension": ".py",
   "mimetype": "text/x-python",
   "name": "python",
   "nbconvert_exporter": "python",
   "pygments_lexer": "ipython3",
   "version": "3.7.9"
  }
 },
 "nbformat": 4,
 "nbformat_minor": 4
}
